{
 "cells": [
  {
   "cell_type": "code",
   "execution_count": null,
   "metadata": {},
   "outputs": [],
   "source": [
    "!python --version\n",
    "\n",
    "import cv2\n",
    "import pytesseract\n",
    "\n",
    "import os\n",
    "import csv\n",
    "import matplotlib.pyplot as plt\n",
    "import numpy as np\n",
    "import pandas as pd\n",
    "from bisect import bisect\n"
   ]
  },
  {
   "cell_type": "code",
   "execution_count": null,
   "metadata": {},
   "outputs": [],
   "source": [
    "def myround(x, base=10):\n",
    "    return base * round(x/base)\n",
    "\n",
    "def myceil(x, base=10):\n",
    "    return base * np.ceil(x/base)"
   ]
  },
  {
   "cell_type": "code",
   "execution_count": null,
   "metadata": {},
   "outputs": [],
   "source": [
    "ipath =  \"img_data/\"\n",
    "opath =  \"output/\""
   ]
  },
  {
   "cell_type": "code",
   "execution_count": null,
   "metadata": {},
   "outputs": [],
   "source": [
    "filename = os.path.join(ipath, \"receipt3_1.png\")\n",
    "img = cv2.imread(filename)\n",
    "\n",
    "hh, ww, cc = img.shape\n",
    "#print(hh, ww, cc)"
   ]
  },
  {
   "cell_type": "code",
   "execution_count": null,
   "metadata": {},
   "outputs": [],
   "source": [
    "fig1, ax1 = plt.subplots(figsize=(16, 12))\n",
    "ax1.imshow(img)\n",
    "\n",
    "xticks = range(0, int( myceil(ww, base=1000) ), 200)\n",
    "yticks = range(0, int( myceil(hh, base=1000) ), 200)\n",
    "\n",
    "ax1.set_xticks(xticks)\n",
    "ax1.set_yticks(yticks)\n",
    "ax1.set_xticklabels(xticks, rotation = 90)\n",
    "ax1.grid(which=\"both\", axis=\"both\")\n"
   ]
  },
  {
   "cell_type": "code",
   "execution_count": null,
   "metadata": {},
   "outputs": [],
   "source": [
    "#input\n",
    "y1, y2, x1, x2 = 1250, 6400, 200, 4600 #top, bottom, left, right\n",
    "vlines = [2600, 3000, 3600, 4200]\n",
    "conf_level = 35\n",
    "\n",
    "#replot fig1 with ROI\n",
    "fig1, ax1 = plt.subplots(figsize=(16, 12))\n",
    "ax1.imshow(img)\n",
    "\n",
    "xticks = range(0, int( myceil(ww, base=1000) ), 200)\n",
    "yticks = range(0, int( myceil(hh, base=1000) ), 200)\n",
    "\n",
    "ax1.set_xticks(xticks)\n",
    "ax1.set_yticks(yticks)\n",
    "ax1.set_xticklabels(xticks, rotation = 90)\n",
    "ax1.grid(which=\"both\", axis=\"both\")\n",
    "\n",
    "#draw ROI\n",
    "ax1.plot([x1, x2], [y1, y1], 'b-', linewidth=2)\n",
    "ax1.plot([x1, x2], [y2, y2], 'b-', linewidth=2)\n",
    "ax1.plot([x1, x1], [y1, y2], 'b-', linewidth=2)\n",
    "ax1.plot([x2, x2], [y1, y2], 'b-', linewidth=2)\n",
    "\n",
    "#draw columns\n",
    "for vline in vlines:\n",
    "    ax1.plot([vline, vline], [y1, y2], 'r-', linewidth=1)\n",
    "    ax1.plot([vline, vline], [y1, y2], 'r-', linewidth=1)"
   ]
  },
  {
   "cell_type": "code",
   "execution_count": null,
   "metadata": {},
   "outputs": [],
   "source": [
    "config_option = \"--psm 1\"\n",
    "d = pytesseract.image_to_data(img, output_type=pytesseract.Output.DICT, lang=\"eng\", config=config_option)\n",
    "#print(d.keys())\n",
    "\n",
    "df = pd.DataFrame(data=d)\n",
    "df.head(15)"
   ]
  },
  {
   "cell_type": "code",
   "execution_count": null,
   "metadata": {},
   "outputs": [],
   "source": [
    "#select just text objects (\"level\"==5) within ROI\n",
    "\n",
    "idxroi = df[ (df[\"top\"] > y1) & \\\n",
    "             (df[\"top\"] < y2) & \\\n",
    "             (df[\"left\"] > x1)& \\\n",
    "             (df[\"left\"] < x2)& \\\n",
    "             (df[\"level\"] == 5)].index\n"
   ]
  },
  {
   "cell_type": "code",
   "execution_count": null,
   "metadata": {},
   "outputs": [],
   "source": [
    "#add bb of detected texts within ROI\n",
    "imgbb = img.copy()\n",
    "\n",
    "linewidth = 2\n",
    "r, g, b = 0, 255, 0\n",
    "\n",
    "for idx in (list(idxroi)):\n",
    "    (x, y, w, h) = (df[\"left\"][idx], df[\"top\"][idx], df[\"width\"][idx], df[\"height\"][idx])\n",
    "    imgbb = cv2.rectangle(imgbb, (x, y), (x+w, y+h), (r, g, b), linewidth)\n"
   ]
  },
  {
   "cell_type": "code",
   "execution_count": null,
   "metadata": {},
   "outputs": [],
   "source": [
    "#draw detected text bbs\n",
    "\n",
    "fig, ax = plt.subplots(figsize=(20, 16))\n",
    "#axs[0].imshow(img);\n",
    "ax.imshow(imgbb);\n",
    "\n",
    "#draw ROI\n",
    "ax.plot([x1, x2], [y1, y1], 'b-', linewidth=2);\n",
    "ax.plot([x1, x2], [y2, y2], 'b-', linewidth=2);\n",
    "ax.plot([x1, x1], [y1, y2], 'b-', linewidth=2);\n",
    "ax.plot([x2, x2], [y1, y2], 'b-', linewidth=2);\n",
    "\n",
    "#draw columns\n",
    "for vline in vlines:\n",
    "    ax.plot([vline, vline], [y1, y2], 'r-', linewidth=1);\n",
    "    ax.plot([vline, vline], [y1, y2], 'r-', linewidth=1);\n",
    "\n",
    "ax.set_xticks(xticks);\n",
    "ax.set_yticks(yticks);\n",
    "ax.set_xticklabels(xticks, rotation = 90);\n",
    "#axs.grid(which=\"both\", axis=\"both\")"
   ]
  },
  {
   "cell_type": "code",
   "execution_count": null,
   "metadata": {},
   "outputs": [],
   "source": [
    "subset = df.iloc[idxroi].reset_index()\n",
    "subset.head(10)"
   ]
  },
  {
   "cell_type": "code",
   "execution_count": null,
   "metadata": {},
   "outputs": [],
   "source": [
    "# use ui column seperators to bin detected texts into columns\n",
    "seplines = sorted( vlines + [x1, x2] )\n",
    "ncols = len(seplines) - 1\n",
    "col = [bisect(seplines, subset[\"left\"].iloc[i]) for i in range(0, len(subset))]\n",
    "\n",
    "#add/remove [\"column\", \"diff\"]/[\"block_num\",\"par_num\"] fields to/from df\n",
    "subset[\"column\"] = col\n",
    "subset.drop([\"block_num\", \"par_num\"], axis=1, inplace=True)\n",
    "\n",
    "subset[\"diff\"] = subset[\"word_num\"].diff()\n",
    "\n",
    "subset.head(10)"
   ]
  },
  {
   "cell_type": "code",
   "execution_count": null,
   "metadata": {},
   "outputs": [],
   "source": [
    "istarts = subset[subset[\"diff\"]<0].index.values\n",
    "#istarts = subset[subset[\"word_num\"]==1].index.values\n",
    "iends = np.append(istarts[1:], len(subset)) #already +1 to indices for slicing\n",
    "\n",
    "if istarts[0] > 0:\n",
    "    iends   = np.append(istarts[0], iends)\n",
    "    istarts = np.append(0, istarts)\n",
    "    \n",
    "with open(os.path.join(opath, \"receipt3_1.csv\"), \"w\") as outfile:\n",
    "    writer = csv.writer(outfile)\n",
    "    \n",
    "    for idxs, idxe in zip(istarts, iends):\n",
    "        line = subset.iloc[idxs:idxe]\n",
    "        columns = line[\"column\"].unique()\n",
    "        \n",
    "        csvline = [' '] * ncols\n",
    "        for column in columns:\n",
    "            ci = column-1 #index\n",
    "            ctext = \"{}\".format( ' '.join(line[line[\"column\"]==column][\"text\"]) )\n",
    "            csvline[ci] = ctext\n",
    "        \n",
    "        print(csvline)\n",
    "        writer.writerow(csvline)\n",
    "outfile.close()"
   ]
  }
 ],
 "metadata": {
  "kernelspec": {
   "display_name": "Python 3",
   "language": "python",
   "name": "python3"
  },
  "language_info": {
   "codemirror_mode": {
    "name": "ipython",
    "version": 3
   },
   "file_extension": ".py",
   "mimetype": "text/x-python",
   "name": "python",
   "nbconvert_exporter": "python",
   "pygments_lexer": "ipython3",
   "version": "3.7.9"
  }
 },
 "nbformat": 4,
 "nbformat_minor": 4
}
